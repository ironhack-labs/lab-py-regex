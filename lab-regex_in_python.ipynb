{
 "cells": [
  {
   "cell_type": "markdown",
   "metadata": {},
   "source": [
    "# LAB | Regular Expressions (Regex) in Python"
   ]
  },
  {
   "cell_type": "markdown",
   "metadata": {},
   "source": [
    "## Overview\n",
    "This exercise notebook will help you practice using regular expressions in Python. Regular expressions are powerful tools for matching patterns in strings, which can be useful for validation, searching, and data manipulation.\n",
    "\n",
    "## Instructions\n",
    "- Complete each exercise by writing the appropriate regex pattern and Python code in the provided space.\n",
    "- Test your code to ensure it works as expected.\n",
    "<!-- - Use the hints provided if you get stuck. -->"
   ]
  },
  {
   "cell_type": "markdown",
   "metadata": {},
   "source": [
    "### Exercise 1: Match Email Addresses\n",
    "Write a regex pattern to match valid email addresses. An email address should contain an '@' symbol and a domain."
   ]
  },
  {
   "cell_type": "code",
   "execution_count": 21,
   "metadata": {},
   "outputs": [
    {
     "name": "stdout",
     "output_type": "stream",
     "text": [
      "Valid email\n"
     ]
    }
   ],
   "source": [
    "import re\n",
    "\n",
    "# Example input\n",
    "email = \"example@example.com\"\n",
    "\n",
    "# Your regex pattern here\n",
    "pattern = r\"[a-zA-Z0-9._+-]+@[a-zA-Z0-9.-]+\\.[a-zA-Z]{2,}\" #any value for any charactres before @ followed by almost any value for any character followed by . (with \\ cause special charater) followed by two or more letters for domain\n",
    "\n",
    "# Test the regex\n",
    "if re.match(pattern, email):\n",
    "    print(\"Valid email\")\n",
    "else:\n",
    "    print(\"Invalid email\")"
   ]
  },
  {
   "cell_type": "markdown",
   "metadata": {},
   "source": [
    "### Exercise 2: Validate Phone Numbers\n",
    "Create a regex pattern to validate phone numbers in the format (123) 456-7890 or 123-456-7890."
   ]
  },
  {
   "cell_type": "code",
   "execution_count": 34,
   "metadata": {},
   "outputs": [
    {
     "name": "stdout",
     "output_type": "stream",
     "text": [
      "Valid phone number\n"
     ]
    }
   ],
   "source": [
    "import re\n",
    "\n",
    "# Example input\n",
    "phone_number = \"(123) 456-7890\"\n",
    "phone_number2 = \"123-456-7890\"\n",
    "\n",
    "# Your regex pattern here\n",
    "pattern = r\"^\\(?\\d{3}\\)?[- ]?\\d{3}-\\d{4}$\" # brackets as optional denoted by ? with \\ in front as it's a special character\n",
    "\n",
    "# Test the regex\n",
    "if re.match(pattern, phone_number2):\n",
    "    print(\"Valid phone number\")\n",
    "else:\n",
    "    print(\"Invalid phone number\")"
   ]
  },
  {
   "cell_type": "markdown",
   "metadata": {},
   "source": [
    "### Exercise 3: Extract Dates\n",
    "Write a regex pattern to extract dates in the format YYYY-MM-DD from a string."
   ]
  },
  {
   "cell_type": "code",
   "execution_count": null,
   "metadata": {},
   "outputs": [],
   "source": [
    "import re\n",
    "\n",
    "# Example input\n",
    "text = \"The event is scheduled for 2024-12-25.\"\n",
    "\n",
    "# Your regex pattern here\n",
    "pattern = r\"\\d{4}-(0[1-9]|1[0-2])-([0-2][1-9]|3[01])\" # special case handling for months and years to not allow for e.g. 13 months or 39ths day\n",
    "\n",
    "# Find all matches\n",
    "dates = re.findall(pattern, text)\n",
    "print(dates)"
   ]
  },
  {
   "cell_type": "markdown",
   "metadata": {},
   "source": [
    "### Exercise 4: Match URLs\n",
    "Create a regex pattern to match URLs that start with http:// or https://."
   ]
  },
  {
   "cell_type": "code",
   "execution_count": 35,
   "metadata": {},
   "outputs": [
    {
     "name": "stdout",
     "output_type": "stream",
     "text": [
      "Valid URL\n"
     ]
    }
   ],
   "source": [
    "import re\n",
    "\n",
    "# Example input\n",
    "url = \"https://www.example.com\"\n",
    "\n",
    "# Your regex pattern here\n",
    "pattern = r\"https?://\" # ? as optional character for s\n",
    "\n",
    "# Test the regex\n",
    "if re.match(pattern, url):\n",
    "    print(\"Valid URL\")\n",
    "else:\n",
    "    print(\"Invalid URL\")"
   ]
  },
  {
   "cell_type": "markdown",
   "metadata": {},
   "source": [
    "### Exercise 5: Find Words Starting with a Specific Letter\n",
    "Write a regex pattern to find all words starting with the letter 'a' in a given string."
   ]
  },
  {
   "cell_type": "code",
   "execution_count": 55,
   "metadata": {},
   "outputs": [
    {
     "name": "stdout",
     "output_type": "stream",
     "text": [
      "['A', 'a', 'ants']\n"
     ]
    }
   ],
   "source": [
    "import re\n",
    "\n",
    "# Example input\n",
    "text = \"A quick brown fox jumps over a lazy dog ball ants.\"\n",
    "\n",
    "# Your regex pattern here\n",
    "pattern = r\"\\b[Aa][a-z]*\\b\" # starting with A or a followed by any lower case letters surrounded by \\b for word block\n",
    "\n",
    "# Find all matches\n",
    "words = re.findall(pattern, text)\n",
    "print(words)"
   ]
  },
  {
   "cell_type": "markdown",
   "metadata": {},
   "source": [
    "### Exercise 6: Match Hexadecimal Colors\n",
    "Create a regex pattern to match hexadecimal color codes (e.g., #FFFFFF)."
   ]
  },
  {
   "cell_type": "code",
   "execution_count": 56,
   "metadata": {},
   "outputs": [
    {
     "name": "stdout",
     "output_type": "stream",
     "text": [
      "Valid hex color code\n"
     ]
    }
   ],
   "source": [
    "import re\n",
    "\n",
    "# Example input\n",
    "color_code = \"#FFFFFF\"\n",
    "\n",
    "# Your regex pattern here\n",
    "pattern = r\"#[A-F\\d]{6}\"\n",
    "\n",
    "# Test the regex\n",
    "if re.match(pattern, color_code):\n",
    "    print(\"Valid hex color code\")\n",
    "else:\n",
    "    print(\"Invalid hex color code\")"
   ]
  },
  {
   "cell_type": "markdown",
   "metadata": {},
   "source": [
    "### Exercise 7: Validate Passwords \n",
    "Write a regex pattern to validate passwords that must be at least 8 characters long and contain at least one uppercase letter, one lowercase letter, one digit, and one special character."
   ]
  },
  {
   "cell_type": "code",
   "execution_count": 58,
   "metadata": {},
   "outputs": [
    {
     "name": "stdout",
     "output_type": "stream",
     "text": [
      "Valid password\n"
     ]
    }
   ],
   "source": [
    "import re\n",
    "\n",
    "# Example input\n",
    "password = \"Password123!\"\n",
    "\n",
    "# Your regex pattern here\n",
    "pattern = r\"(?=.*[A-Z])(?=.*[a-z])(?=.*\\d)(?=.*[\\W_]).{8,}\" # Lookahead applied. Checks if there is any capital, small letter, special character or digit in the string and checks for length of at least 8 chars\n",
    "\n",
    "# Test the regex\n",
    "if re.match(pattern, password):\n",
    "    print(\"Valid password\")\n",
    "else:\n",
    "    print(\"Invalid password\")"
   ]
  },
  {
   "cell_type": "markdown",
   "metadata": {},
   "source": [
    "### Exercise 8: Remove Extra Spaces \n",
    "Create a regex pattern that removes extra spaces from a string while keeping single spaces between words."
   ]
  },
  {
   "cell_type": "code",
   "execution_count": 77,
   "metadata": {},
   "outputs": [
    {
     "name": "stdout",
     "output_type": "stream",
     "text": [
      "This is an example.\n"
     ]
    }
   ],
   "source": [
    "import re\n",
    "\n",
    "# Example input\n",
    "text = \"This   is   an   example.\"\n",
    "\n",
    "# Your regex pattern here\n",
    "pattern = r\"\\s {2,}\" # looks for everywhere with 2 or more whitspaces and replaces them with 1\n",
    "\n",
    "# Replace extra spaces\n",
    "cleaned_text = re.sub(pattern, \" \", text)\n",
    "print(cleaned_text)"
   ]
  },
  {
   "cell_type": "markdown",
   "metadata": {},
   "source": [
    "### Exercise 9: Match IP Addresses \n",
    "Write a regex pattern to match valid IPv4 addresses."
   ]
  },
  {
   "cell_type": "code",
   "execution_count": 78,
   "metadata": {},
   "outputs": [
    {
     "name": "stdout",
     "output_type": "stream",
     "text": [
      "Valid IP address\n"
     ]
    }
   ],
   "source": [
    "import re\n",
    "\n",
    "# Example input\n",
    "ip_address = \"192.168.1.1\"\n",
    "\n",
    "# Your regex pattern here\n",
    "pattern = r\"^([0-9]|[1-9][0-9]|[1-1][0-9]{2}|2[0-4][0-9]|25[0-5])\\.([0-9]|[1-9][0-9]|[1-1][0-9]{2}|2[0-4][0-9]|25[0-5])\\.([0-9]|[1-9][0-9]|[1-1][0-9]{2}|2[0-4][0-9]|25[0-5])\\.([0-9]|[1-9][0-9]|[1-1][0-9]{2}|2[0-4][0-9]|25[0-5])$\"\n",
    "# Checks for any of the 4 values to be between 0 and 255\n",
    "\n",
    "# Test the regex\n",
    "if re.match(pattern, ip_address):\n",
    "    print(\"Valid IP address\")\n",
    "else:\n",
    "    print(\"Invalid IP address\")"
   ]
  },
  {
   "cell_type": "markdown",
   "metadata": {},
   "source": [
    "### Exercise 10: Extract Hashtags \n",
    "Create a regex pattern to extract hashtags from a string."
   ]
  },
  {
   "cell_type": "code",
   "execution_count": 150,
   "metadata": {},
   "outputs": [
    {
     "name": "stdout",
     "output_type": "stream",
     "text": [
      "['#Python', '#Regex', '#Coding']\n"
     ]
    }
   ],
   "source": [
    "import re\n",
    "\n",
    "# Example input\n",
    "text = \"Here are some hashtags: #Python #Regex #Coding.\"\n",
    "\n",
    "# Your regex pattern here\n",
    "pattern = r\"#[A-Za-z0-9_]+\" # looks for # and then followed by whatever\n",
    "\n",
    "# Find all matches\n",
    "hashtags = re.findall(pattern, text)\n",
    "print(hashtags)"
   ]
  },
  {
   "cell_type": "markdown",
   "metadata": {},
   "source": [
    "## Bonus Exercises\n"
   ]
  },
  {
   "cell_type": "markdown",
   "metadata": {},
   "source": [
    "\n",
    "### Bonus Exercise 1: Match All Digits \n",
    "Write a regex pattern to match all digits in a given string."
   ]
  },
  {
   "cell_type": "code",
   "execution_count": 129,
   "metadata": {},
   "outputs": [
    {
     "name": "stdout",
     "output_type": "stream",
     "text": [
      "['2', '3']\n"
     ]
    }
   ],
   "source": [
    "import re\n",
    "\n",
    "# Example input\n",
    "text = \"There are 2 apples and 3 oranges.\"\n",
    "\n",
    "# Your regex pattern here\n",
    "pattern = r\"\\d\"\n",
    "\n",
    "# Find all matches\n",
    "digits = re.findall(pattern, text)\n",
    "print(digits)"
   ]
  },
  {
   "cell_type": "markdown",
   "metadata": {},
   "source": [
    "### Bonus Exercise 2: Validate Credit Card Numbers  \n",
    "Create a regex pattern to validate credit card numbers (16 digits)."
   ]
  },
  {
   "cell_type": "code",
   "execution_count": 130,
   "metadata": {},
   "outputs": [
    {
     "name": "stdout",
     "output_type": "stream",
     "text": [
      "Valid credit card number\n"
     ]
    }
   ],
   "source": [
    "import re\n",
    "\n",
    "# Example input\n",
    "credit_card_number = \"1234-5678-9876-5432\"\n",
    "\n",
    "# Your regex pattern here\n",
    "pattern = r\"\\d{4}-\\d{4}-\\d{4}-\\d{4}\"\n",
    "\n",
    "# Test the regex\n",
    "if re.match(pattern, credit_card_number):\n",
    "    print(\"Valid credit card number\")\n",
    "else:\n",
    "    print(\"Invalid credit card number\")"
   ]
  },
  {
   "cell_type": "markdown",
   "metadata": {},
   "source": [
    "### Bonus Exercise 3: Match Non-Alphanumeric Characters  \n",
    "Write a regex pattern to match non-alphanumeric characters in a string."
   ]
  },
  {
   "cell_type": "code",
   "execution_count": 146,
   "metadata": {},
   "outputs": [
    {
     "name": "stdout",
     "output_type": "stream",
     "text": [
      "['!', '?', '@', '.']\n"
     ]
    }
   ],
   "source": [
    "import re\n",
    "\n",
    "# Example input\n",
    "text = \"Hello! How are you? @Python3.\"\n",
    "\n",
    "# Your regex pattern here\n",
    "pattern = r\"[^\\w\\s]\" # everything that is not a word or a whitespace\n",
    "\n",
    "# Find all matches\n",
    "non_alphanumeric_chars = re.findall(pattern, text)\n",
    "print(non_alphanumeric_chars)"
   ]
  },
  {
   "cell_type": "markdown",
   "metadata": {},
   "source": [
    "### Bonus Exercise 4: Validate Date Format  \n",
    "Create a regex pattern to validate dates in the format DD/MM/YYYY."
   ]
  },
  {
   "cell_type": "code",
   "execution_count": null,
   "metadata": {},
   "outputs": [],
   "source": [
    "import re\n",
    "\n",
    "# Example input\n",
    "date_string = \"25/12/2024\"\n",
    "\n",
    "# Your regex pattern here\n",
    "pattern = r\"\"\n",
    "\n",
    "# Test the regex\n",
    "if re.match(pattern, date_string):\n",
    "    print(\"Valid date format\")\n",
    "else:\n",
    "    print(\"Invalid date format\")"
   ]
  },
  {
   "cell_type": "markdown",
   "metadata": {},
   "source": [
    "### Bonus Exercise 5: Extract Email Domains  \n",
    "Write a regex pattern to extract domains from email addresses."
   ]
  },
  {
   "cell_type": "code",
   "execution_count": 149,
   "metadata": {},
   "outputs": [
    {
     "name": "stdout",
     "output_type": "stream",
     "text": [
      "<re.Match object; span=(0, 16), match='user@example.com'>\n",
      "<re.Match object; span=(0, 16), match='admin@domain.org'>\n"
     ]
    }
   ],
   "source": [
    "import re\n",
    "\n",
    "# Example input\n",
    "email_list = [\"user@example.com\", \"admin@domain.org\"]\n",
    "\n",
    "# Your regex pattern here\n",
    "pattern = r\"[a-zA-Z0-9._+-]+@[a-zA-Z0-9.-]+\\.[a-zA-Z]{2,}\"\n",
    "\n",
    "for email in email_list:\n",
    "    domain = re.search(pattern, email)\n",
    "    if domain:\n",
    "        print(domain)  # Print extracted domain part."
   ]
  },
  {
   "cell_type": "markdown",
   "metadata": {},
   "source": [
    "### Exercise Completion  \n",
    "Once you have completed all exercises:\n",
    "- Review your solutions.\n",
    "- Ensure your regular expressions and Python code are well-documented with comments explaining your logic.\n",
    "- Save your notebook for submission or further review.\n",
    "\n",
    "Happy coding! Enjoy practicing Regular Expressions in Python!"
   ]
  }
 ],
 "metadata": {
  "kernelspec": {
   "display_name": "datasci_env",
   "language": "python",
   "name": "python3"
  },
  "language_info": {
   "codemirror_mode": {
    "name": "ipython",
    "version": 3
   },
   "file_extension": ".py",
   "mimetype": "text/x-python",
   "name": "python",
   "nbconvert_exporter": "python",
   "pygments_lexer": "ipython3",
   "version": "3.8.20"
  }
 },
 "nbformat": 4,
 "nbformat_minor": 2
}
